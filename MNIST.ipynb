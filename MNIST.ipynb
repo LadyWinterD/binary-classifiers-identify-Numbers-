{
  "nbformat": 4,
  "nbformat_minor": 0,
  "metadata": {
    "colab": {
      "name": "MNIST",
      "provenance": [],
      "authorship_tag": "ABX9TyMwrz2M/b5esflsO4p9g+Y/",
      "include_colab_link": true
    },
    "kernelspec": {
      "name": "python3",
      "display_name": "Python 3"
    }
  },
  "cells": [
    {
      "cell_type": "markdown",
      "metadata": {
        "id": "view-in-github",
        "colab_type": "text"
      },
      "source": [
        "<a href=\"https://colab.research.google.com/github/LadyWinterD/binary-classifiers-identify-Numbers-/blob/master/MNIST.ipynb\" target=\"_parent\"><img src=\"https://colab.research.google.com/assets/colab-badge.svg\" alt=\"Open In Colab\"/></a>"
      ]
    },
    {
      "cell_type": "code",
      "metadata": {
        "id": "WxI5XUYAX5ck",
        "colab_type": "code",
        "colab": {}
      },
      "source": [
        "from sklearn.datasets import fetch_openml"
      ],
      "execution_count": 0,
      "outputs": []
    },
    {
      "cell_type": "code",
      "metadata": {
        "id": "rYgfCTWWaDp9",
        "colab_type": "code",
        "colab": {}
      },
      "source": [
        "mnist = fetch_openml('mnist_784',version=1)"
      ],
      "execution_count": 0,
      "outputs": []
    },
    {
      "cell_type": "code",
      "metadata": {
        "id": "QCsP_ZzgaPEZ",
        "colab_type": "code",
        "colab": {
          "base_uri": "https://localhost:8080/",
          "height": 34
        },
        "outputId": "bb96d4c0-c892-4557-c814-f93311404c0f"
      },
      "source": [
        "mnist.keys()"
      ],
      "execution_count": 5,
      "outputs": [
        {
          "output_type": "execute_result",
          "data": {
            "text/plain": [
              "dict_keys(['data', 'target', 'frame', 'feature_names', 'target_names', 'DESCR', 'details', 'categories', 'url'])"
            ]
          },
          "metadata": {
            "tags": []
          },
          "execution_count": 5
        }
      ]
    },
    {
      "cell_type": "code",
      "metadata": {
        "id": "Z166xgyGhHqu",
        "colab_type": "code",
        "colab": {
          "base_uri": "https://localhost:8080/",
          "height": 34
        },
        "outputId": "2fda9569-49df-4345-ff38-85635b6dbca8"
      },
      "source": [
        "X,y = mnist[\"data\"],mnist[\"target\"]\n",
        "X.shape"
      ],
      "execution_count": 6,
      "outputs": [
        {
          "output_type": "execute_result",
          "data": {
            "text/plain": [
              "(70000, 784)"
            ]
          },
          "metadata": {
            "tags": []
          },
          "execution_count": 6
        }
      ]
    },
    {
      "cell_type": "markdown",
      "metadata": {
        "id": "WKmx-QpxhgC-",
        "colab_type": "text"
      },
      "source": [
        "70000 images and each image has 784 feaures, this is because each image is 28*28 pixel, from 1 to 255."
      ]
    },
    {
      "cell_type": "code",
      "metadata": {
        "id": "8P62g7cuhRTh",
        "colab_type": "code",
        "colab": {
          "base_uri": "https://localhost:8080/",
          "height": 248
        },
        "outputId": "f9eab6fb-dda7-4ae0-ceb9-a6a511cf7aa4"
      },
      "source": [
        "import matplotlib as mpl\n",
        "import matplotlib.pyplot as plt\n",
        "some_digit = X[0]\n",
        "some_digit_image = some_digit.reshape(28,28)\n",
        "plt.imshow(some_digit_image,cmap=\"binary\")\n",
        "plt.axis(\"off\")\n",
        "plt.show()"
      ],
      "execution_count": 15,
      "outputs": [
        {
          "output_type": "display_data",
          "data": {
            "image/png": "[encoded data removed]",
            "text/plain": [
              "<Figure size 432x288 with 1 Axes>"
            ]
          },
          "metadata": {
            "tags": []
          }
        }
      ]
    },
    {
      "cell_type": "markdown",
      "metadata": {
        "id": "PZUicTkUktdN",
        "colab_type": "text"
      },
      "source": [
        "it looks like a 5, and the lebel tells the answer"
      ]
    },
    {
      "cell_type": "code",
      "metadata": {
        "id": "hp4jWih7kpMc",
        "colab_type": "code",
        "colab": {
          "base_uri": "https://localhost:8080/",
          "height": 34
        },
        "outputId": "b71d193a-1780-459b-d8d5-9bec59de4b75"
      },
      "source": [
        "y[0]"
      ],
      "execution_count": 10,
      "outputs": [
        {
          "output_type": "execute_result",
          "data": {
            "text/plain": [
              "'5'"
            ]
          },
          "metadata": {
            "tags": []
          },
          "execution_count": 10
        }
      ]
    },
    {
      "cell_type": "code",
      "metadata": {
        "id": "eSV2QA9Uk0iH",
        "colab_type": "code",
        "colab": {}
      },
      "source": [
        "import numpy as np\n",
        "\n",
        "y = y.astype(np.uint8)"
      ],
      "execution_count": 0,
      "outputs": []
    },
    {
      "cell_type": "code",
      "metadata": {
        "id": "PqITx0c4k-_d",
        "colab_type": "code",
        "colab": {}
      },
      "source": [
        "X_train, X_test, y_train, y_test = X[:60000], X[60000:], y[:60000], y[60000:]"
      ],
      "execution_count": 0,
      "outputs": []
    },
    {
      "cell_type": "markdown",
      "metadata": {
        "id": "1F_ccDqxlWLH",
        "colab_type": "text"
      },
      "source": [
        "# training a binary classifier : SGD Classifier"
      ]
    },
    {
      "cell_type": "code",
      "metadata": {
        "id": "QrFi8lDvlZLd",
        "colab_type": "code",
        "colab": {}
      },
      "source": [
        "y_train_5 = (y_train == 5) # True for all 5s, False for all other digits\n",
        "y_test_5 = (y_test ==5)"
      ],
      "execution_count": 0,
      "outputs": []
    },
    {
      "cell_type": "code",
      "metadata": {
        "id": "xoJdCmgclkry",
        "colab_type": "code",
        "colab": {
          "base_uri": "https://localhost:8080/",
          "height": 119
        },
        "outputId": "ef3fe077-1cd4-4291-f587-16f461a379ff"
      },
      "source": [
        "from sklearn.linear_model import SGDClassifier\n",
        "sgd_clf = SGDClassifier(random_state=42)\n",
        "sgd_clf.fit(X_train, y_train_5)"
      ],
      "execution_count": 18,
      "outputs": [
        {
          "output_type": "execute_result",
          "data": {
            "text/plain": [
              "SGDClassifier(alpha=0.0001, average=False, class_weight=None,\n",
              "              early_stopping=False, epsilon=0.1, eta0=0.0, fit_intercept=True,\n",
              "              l1_ratio=0.15, learning_rate='optimal', loss='hinge',\n",
              "              max_iter=1000, n_iter_no_change=5, n_jobs=None, penalty='l2',\n",
              "              power_t=0.5, random_state=42, shuffle=True, tol=0.001,\n",
              "              validation_fraction=0.1, verbose=0, warm_start=False)"
            ]
          },
          "metadata": {
            "tags": []
          },
          "execution_count": 18
        }
      ]
    },
    {
      "cell_type": "code",
      "metadata": {
        "id": "jFnCNJxIsNO_",
        "colab_type": "code",
        "colab": {
          "base_uri": "https://localhost:8080/",
          "height": 34
        },
        "outputId": "b8c824f9-ab39-436e-ae04-29a6e332e7ae"
      },
      "source": [
        "sgd_clf.predict([some_digit])\n"
      ],
      "execution_count": 20,
      "outputs": [
        {
          "output_type": "execute_result",
          "data": {
            "text/plain": [
              "array([ True])"
            ]
          },
          "metadata": {
            "tags": []
          },
          "execution_count": 20
        }
      ]
    },
    {
      "cell_type": "markdown",
      "metadata": {
        "id": "RVAUJmGOusx4",
        "colab_type": "text"
      },
      "source": [
        "#measuring accuracy using cross-validation"
      ]
    },
    {
      "cell_type": "code",
      "metadata": {
        "id": "-C4CisNPrIC0",
        "colab_type": "code",
        "colab": {
          "base_uri": "https://localhost:8080/",
          "height": 34
        },
        "outputId": "36715318-7aef-4ef5-b862-b51330e92bbc"
      },
      "source": [
        "from sklearn.model_selection import cross_val_score\n",
        "cross_val_score(sgd_clf, X_train, y_train_5, cv=3, scoring=\"accuracy\")"
      ],
      "execution_count": 26,
      "outputs": [
        {
          "output_type": "execute_result",
          "data": {
            "text/plain": [
              "array([0.95035, 0.96035, 0.9604 ])"
            ]
          },
          "metadata": {
            "tags": []
          },
          "execution_count": 26
        }
      ]
    },
    {
      "cell_type": "markdown",
      "metadata": {
        "id": "WQVbZA9avcbr",
        "colab_type": "text"
      },
      "source": [
        "96% accracy on all cross-validation folds"
      ]
    },
    {
      "cell_type": "code",
      "metadata": {
        "id": "rpOuhOABviU0",
        "colab_type": "code",
        "colab": {}
      },
      "source": [
        "from sklearn.base import BaseEstimator\n",
        "class Never5Classfier(BaseEstimator):\n",
        "  def fit(self, X, y= None):\n",
        "    return self\n",
        "  def predict(self, X):\n",
        "    return np.zeros((len(X),1),dtype=bool)"
      ],
      "execution_count": 0,
      "outputs": []
    },
    {
      "cell_type": "code",
      "metadata": {
        "id": "qgoXuL79yPi3",
        "colab_type": "code",
        "colab": {
          "base_uri": "https://localhost:8080/",
          "height": 34
        },
        "outputId": "25b47ce4-47da-4aff-a23e-8221c102399d"
      },
      "source": [
        "never_5_clf=Never5Classfier()\n",
        "cross_val_score(never_5_clf,X_train,y_train_5,cv=3, scoring=\"accuracy\")"
      ],
      "execution_count": 32,
      "outputs": [
        {
          "output_type": "execute_result",
          "data": {
            "text/plain": [
              "array([0.91125, 0.90855, 0.90915])"
            ]
          },
          "metadata": {
            "tags": []
          },
          "execution_count": 32
        }
      ]
    },
    {
      "cell_type": "markdown",
      "metadata": {
        "id": "GKJT5VirzQfz",
        "colab_type": "text"
      },
      "source": [
        "over 90% accuracy. "
      ]
    },
    {
      "cell_type": "markdown",
      "metadata": {
        "id": "9W4dtReA0MSl",
        "colab_type": "text"
      },
      "source": [
        "# confusion matrix\n",
        "Cross_val_predict()performs K-fold cross-validation, instead of returning the evaluation scores, it returns the predictions made on each test fold. it means you can get a clean prediction for each instance in the training set.Clean means the prediction is made by a model that never saw the data during training."
      ]
    },
    {
      "cell_type": "code",
      "metadata": {
        "id": "xCSxYH6L0QYS",
        "colab_type": "code",
        "colab": {}
      },
      "source": [
        "from sklearn.model_selection import cross_val_predict\n",
        "y_train_pred = cross_val_predict(sgd_clf, X_train, y_train_5, cv=3)"
      ],
      "execution_count": 0,
      "outputs": []
    },
    {
      "cell_type": "code",
      "metadata": {
        "id": "VRN3UQy0zv27",
        "colab_type": "code",
        "colab": {
          "base_uri": "https://localhost:8080/",
          "height": 51
        },
        "outputId": "bfb13893-4213-4e7e-db48-a814a835440d"
      },
      "source": [
        "from sklearn.metrics import confusion_matrix\n",
        "confusion_matrix(y_train_5, y_train_pred)"
      ],
      "execution_count": 36,
      "outputs": [
        {
          "output_type": "execute_result",
          "data": {
            "text/plain": [
              "array([[53892,   687],\n",
              "       [ 1891,  3530]])"
            ]
          },
          "metadata": {
            "tags": []
          },
          "execution_count": 36
        }
      ]
    },
    {
      "cell_type": "markdown",
      "metadata": {
        "id": "QJuhA48q2MtY",
        "colab_type": "text"
      },
      "source": [
        "First row of the matrix considers non-5 images:53892\n",
        "\n",
        "*   687 were wrongly classified as 5s\n",
        "\n",
        "\n",
        "\n",
        "\n",
        "*   second row considers the images of 5s\n",
        "\n",
        "*   1891 were wrongly classified as non-5s\n",
        "*   3530 were correctly classified as 5s \n"
      ]
    },
    {
      "cell_type": "code",
      "metadata": {
        "id": "vGAqqLFA2yQh",
        "colab_type": "code",
        "colab": {
          "base_uri": "https://localhost:8080/",
          "height": 51
        },
        "outputId": "0e0f8d61-f1fe-4df8-b8e5-31be335ae5c7"
      },
      "source": [
        "y_train_perfect_predictions = y_train_5 # pretend we reached perfection\n",
        "confusion_matrix(y_train_5,y_train_perfect_predictions)"
      ],
      "execution_count": 37,
      "outputs": [
        {
          "output_type": "execute_result",
          "data": {
            "text/plain": [
              "array([[54579,     0],\n",
              "       [    0,  5421]])"
            ]
          },
          "metadata": {
            "tags": []
          },
          "execution_count": 37
        }
      ]
    },
    {
      "cell_type": "markdown",
      "metadata": {
        "id": "zNyAb3J_3Vlk",
        "colab_type": "text"
      },
      "source": [
        "precision = TP/(TP + FP)\n",
        "TP is the number of true positives, and FP is the number of false positives.\n",
        "FN is, of course, the number of false negatives."
      ]
    },
    {
      "cell_type": "code",
      "metadata": {
        "id": "AjIPJCiP3PoU",
        "colab_type": "code",
        "colab": {
          "base_uri": "https://localhost:8080/",
          "height": 34
        },
        "outputId": "718b8dd1-e6f5-43ee-826d-ce0589ace982"
      },
      "source": [
        "from sklearn.metrics import precision_score,recall_score\n",
        "precision_score(y_train_5,y_train_pred)     #687/(3530+687)"
      ],
      "execution_count": 38,
      "outputs": [
        {
          "output_type": "execute_result",
          "data": {
            "text/plain": [
              "0.8370879772350012"
            ]
          },
          "metadata": {
            "tags": []
          },
          "execution_count": 38
        }
      ]
    },
    {
      "cell_type": "code",
      "metadata": {
        "id": "KfNdpbW76maY",
        "colab_type": "code",
        "colab": {
          "base_uri": "https://localhost:8080/",
          "height": 34
        },
        "outputId": "55f168f6-0ec5-49a5-e61e-26faf85dbeb3"
      },
      "source": [
        "recall_score(y_train_5,y_train_pred)  # == 1891/(3530+687)"
      ],
      "execution_count": 39,
      "outputs": [
        {
          "output_type": "execute_result",
          "data": {
            "text/plain": [
              "0.6511713705958311"
            ]
          },
          "metadata": {
            "tags": []
          },
          "execution_count": 39
        }
      ]
    },
    {
      "cell_type": "markdown",
      "metadata": {
        "id": "lNVRUU-766F2",
        "colab_type": "text"
      },
      "source": [
        "an image represents a 5, it is correct only 83.7%\n",
        "moreover, it only detects 65.1% of the 5s\n",
        "#harmonic mean of precision and recall"
      ]
    },
    {
      "cell_type": "code",
      "metadata": {
        "id": "oQ_03_O17IWC",
        "colab_type": "code",
        "colab": {
          "base_uri": "https://localhost:8080/",
          "height": 34
        },
        "outputId": "24a68340-4e50-4c94-e349-6aa643124371"
      },
      "source": [
        "from sklearn.metrics import f1_score\n",
        "f1_score(y_train_5,y_train_pred)"
      ],
      "execution_count": 41,
      "outputs": [
        {
          "output_type": "execute_result",
          "data": {
            "text/plain": [
              "0.7325171197343846"
            ]
          },
          "metadata": {
            "tags": []
          },
          "execution_count": 41
        }
      ]
    },
    {
      "cell_type": "markdown",
      "metadata": {
        "id": "BdfR7A0-A_-7",
        "colab_type": "text"
      },
      "source": [
        "#precision/recall trade-off"
      ]
    },
    {
      "cell_type": "code",
      "metadata": {
        "id": "_ARESjJXBBnn",
        "colab_type": "code",
        "colab": {}
      },
      "source": [
        "#decision_function() method, which returns a score for each instance\n",
        "y_scores = sgd_clf.decision_function([some_digit])"
      ],
      "execution_count": 0,
      "outputs": []
    },
    {
      "cell_type": "code",
      "metadata": {
        "id": "Tn2-9TiHB3TB",
        "colab_type": "code",
        "colab": {
          "base_uri": "https://localhost:8080/",
          "height": 34
        },
        "outputId": "658aebf8-ff2e-4b4d-a1c8-4aa6f872a3e7"
      },
      "source": [
        "y_scores"
      ],
      "execution_count": 59,
      "outputs": [
        {
          "output_type": "execute_result",
          "data": {
            "text/plain": [
              "array([2164.22030239])"
            ]
          },
          "metadata": {
            "tags": []
          },
          "execution_count": 59
        }
      ]
    },
    {
      "cell_type": "code",
      "metadata": {
        "id": "zHtbl65_B6D_",
        "colab_type": "code",
        "colab": {}
      },
      "source": [
        "threshold = 0"
      ],
      "execution_count": 0,
      "outputs": []
    },
    {
      "cell_type": "code",
      "metadata": {
        "id": "PuvAc_5IB8-I",
        "colab_type": "code",
        "colab": {}
      },
      "source": [
        "y_some_digit_pred=(y_scores > threshold)"
      ],
      "execution_count": 0,
      "outputs": []
    },
    {
      "cell_type": "code",
      "metadata": {
        "id": "dI_uxIarCDUC",
        "colab_type": "code",
        "colab": {}
      },
      "source": [
        "threshold = 8000"
      ],
      "execution_count": 0,
      "outputs": []
    },
    {
      "cell_type": "code",
      "metadata": {
        "id": "wVzdEwzOCGGR",
        "colab_type": "code",
        "colab": {}
      },
      "source": [
        "y_some_digit_pred = (y_scores > threshold)"
      ],
      "execution_count": 0,
      "outputs": []
    },
    {
      "cell_type": "code",
      "metadata": {
        "id": "1q-ZxyvbCKN7",
        "colab_type": "code",
        "colab": {
          "base_uri": "https://localhost:8080/",
          "height": 34
        },
        "outputId": "9904485c-9203-4d14-be76-07b146ef856f"
      },
      "source": [
        "y_some_digit_pred"
      ],
      "execution_count": 63,
      "outputs": [
        {
          "output_type": "execute_result",
          "data": {
            "text/plain": [
              "array([False])"
            ]
          },
          "metadata": {
            "tags": []
          },
          "execution_count": 63
        }
      ]
    },
    {
      "cell_type": "markdown",
      "metadata": {
        "id": "K7-maDruC7gc",
        "colab_type": "text"
      },
      "source": [
        "want to return decision scores instead of predictions"
      ]
    },
    {
      "cell_type": "code",
      "metadata": {
        "id": "DwFHLkjCCrl9",
        "colab_type": "code",
        "colab": {}
      },
      "source": [
        "y_scores = cross_val_predict(sgd_clf,X_train, y_train_5,cv=3,method=\"decision_function\")"
      ],
      "execution_count": 0,
      "outputs": []
    },
    {
      "cell_type": "markdown",
      "metadata": {
        "id": "Vl1yl5RTDGlY",
        "colab_type": "text"
      },
      "source": [
        "ues precision_recall_curve() to compute precision\n"
      ]
    },
    {
      "cell_type": "code",
      "metadata": {
        "id": "gMJgTR4KDLwj",
        "colab_type": "code",
        "colab": {}
      },
      "source": [
        "from sklearn.metrics import precision_recall_curve\n",
        "precisions, recalls, thresholds = precision_recall_curve(y_train_5, y_scores)"
      ],
      "execution_count": 0,
      "outputs": []
    },
    {
      "cell_type": "code",
      "metadata": {
        "id": "y5vISpKHDTDx",
        "colab_type": "code",
        "colab": {
          "base_uri": "https://localhost:8080/",
          "height": 265
        },
        "outputId": "e58c6407-a1cb-4143-8110-c4ef428b08bb"
      },
      "source": [
        "def plot_precision_recall_vs_threshold(precisions, recalls, thresholds):\n",
        "  plt.plot(thresholds, precisions[:-1], \"b--\", label=\"Precision\")\n",
        "  plt.plot(thresholds, recalls[:-1], \"g-\", label=\"Recall\")\n",
        "  [...] # highlight the threshold and add the legend, axis label, and grid\n",
        "plot_precision_recall_vs_threshold(precisions, recalls, thresholds)\n",
        "plt.show()"
      ],
      "execution_count": 68,
      "outputs": [
        {
          "output_type": "display_data",
          "data": {
            "image/png": "[encoded data removed]",
            "text/plain": [
              "<Figure size 432x288 with 1 Axes>"
            ]
          },
          "metadata": {
            "tags": []
          }
        }
      ]
    },
    {
      "cell_type": "code",
      "metadata": {
        "id": "F1MryHLAEWll",
        "colab_type": "code",
        "colab": {
          "base_uri": "https://localhost:8080/",
          "height": 265
        },
        "outputId": "e16569fa-11db-4e12-aec4-3da9f107e0a0"
      },
      "source": [
        "def plot_precision_recall_vs_threshold(recalls, thresholds):\n",
        "  plt.plot(thresholds, recalls[:-1], \"g-\", label=\"Recall\")\n",
        "  [...] # highlight the threshold and add the legend, axis label, and grid\n",
        "plot_precision_recall_vs_threshold(recalls, thresholds)\n",
        "plt.show()"
      ],
      "execution_count": 73,
      "outputs": [
        {
          "output_type": "display_data",
          "data": {
            "image/png": "[encoded data removed]",
            "text/plain": [
              "<Figure size 432x288 with 1 Axes>"
            ]
          },
          "metadata": {
            "tags": []
          }
        }
      ]
    },
    {
      "cell_type": "markdown",
      "metadata": {
        "id": "DC529_nqE6RZ",
        "colab_type": "text"
      },
      "source": [
        "(np.argmax() will give you the\n",
        "first index of the maximum value, which in this case means the first True value"
      ]
    },
    {
      "cell_type": "code",
      "metadata": {
        "id": "9yICcozbD-6h",
        "colab_type": "code",
        "colab": {}
      },
      "source": [
        "threshold_90_precision = thresholds[np.argmax(precisions >= 0.90)] # ~7816"
      ],
      "execution_count": 0,
      "outputs": []
    },
    {
      "cell_type": "code",
      "metadata": {
        "id": "Q60M4wgjFf7e",
        "colab_type": "code",
        "colab": {
          "base_uri": "https://localhost:8080/",
          "height": 34
        },
        "outputId": "18318ed6-098e-414f-fe48-772fdc5d409f"
      },
      "source": [
        "np.argmax(precisions >= 0.90)"
      ],
      "execution_count": 79,
      "outputs": [
        {
          "output_type": "execute_result",
          "data": {
            "text/plain": [
              "57075"
            ]
          },
          "metadata": {
            "tags": []
          },
          "execution_count": 79
        }
      ]
    },
    {
      "cell_type": "code",
      "metadata": {
        "id": "rZW98ZxNE_7b",
        "colab_type": "code",
        "colab": {}
      },
      "source": [
        "y_train_pred_90 = (y_scores >= threshold_90_precision)"
      ],
      "execution_count": 0,
      "outputs": []
    },
    {
      "cell_type": "code",
      "metadata": {
        "id": "tuNlr6h5FC5j",
        "colab_type": "code",
        "colab": {
          "base_uri": "https://localhost:8080/",
          "height": 34
        },
        "outputId": "841456bc-65fd-4392-804d-52d445bdce90"
      },
      "source": [
        "precision_score(y_train_5,y_train_pred_90)"
      ],
      "execution_count": 77,
      "outputs": [
        {
          "output_type": "execute_result",
          "data": {
            "text/plain": [
              "0.9000345901072293"
            ]
          },
          "metadata": {
            "tags": []
          },
          "execution_count": 77
        }
      ]
    },
    {
      "cell_type": "code",
      "metadata": {
        "id": "NC10xBTgFIV3",
        "colab_type": "code",
        "colab": {
          "base_uri": "https://localhost:8080/",
          "height": 34
        },
        "outputId": "bb905ba4-6e14-4d7d-e698-e773556fb2d1"
      },
      "source": [
        "recall_score(y_train_5,y_train_pred_90)"
      ],
      "execution_count": 78,
      "outputs": [
        {
          "output_type": "execute_result",
          "data": {
            "text/plain": [
              "0.4799852425751706"
            ]
          },
          "metadata": {
            "tags": []
          },
          "execution_count": 78
        }
      ]
    },
    {
      "cell_type": "markdown",
      "metadata": {
        "id": "IgLzJEnDGOMl",
        "colab_type": "text"
      },
      "source": [
        "#The ROC Curve\n",
        "The receiver operating characteristic (ROC) curve is another common tool used with\n",
        "binary classifiers. It is very similar to the precision/recall curve, but instead of plotting\n",
        "precision versus recall, the ROC curve plots the true positive rate (another name\n",
        "for recall) against the false positive rate (FPR). The FPR is the ratio of negative instances\n",
        "that are incorrectly classified as positive. It is equal to 1 – the true negative rate\n",
        "(TNR), which is the ratio of negative instances that are correctly classified as negative.\n",
        "The TNR is also called specificity. Hence, the ROC curve plots sensitivity (recall) versus\n",
        "1 – specificity."
      ]
    },
    {
      "cell_type": "code",
      "metadata": {
        "id": "aexMeGOTGChb",
        "colab_type": "code",
        "colab": {}
      },
      "source": [
        "from sklearn.metrics import roc_curve\n",
        "fpr, tpr, thresholds = roc_curve(y_train_5, y_scores)"
      ],
      "execution_count": 0,
      "outputs": []
    },
    {
      "cell_type": "code",
      "metadata": {
        "id": "3REr_UXTGiMt",
        "colab_type": "code",
        "colab": {
          "base_uri": "https://localhost:8080/",
          "height": 265
        },
        "outputId": "b58b6942-01b7-487e-bf59-1accec594509"
      },
      "source": [
        "def plot_roc_curve(fpr, tpr, label=None):\n",
        "  plt.plot(fpr, tpr, linewidth=2, label=label)\n",
        "  plt.plot([0, 1], [0, 1], 'k--') # Dashed diagonal\n",
        "  [...] # Add axis labels and grid\n",
        "plot_roc_curve(fpr, tpr)\n",
        "plt.show()"
      ],
      "execution_count": 83,
      "outputs": [
        {
          "output_type": "display_data",
          "data": {
            "image/png": "[encoded data removed]",
            "text/plain": [
              "<Figure size 432x288 with 1 Axes>"
            ]
          },
          "metadata": {
            "tags": []
          }
        }
      ]
    },
    {
      "cell_type": "code",
      "metadata": {
        "id": "pZLKIG2OGzxN",
        "colab_type": "code",
        "colab": {
          "base_uri": "https://localhost:8080/",
          "height": 34
        },
        "outputId": "b3cbb098-6786-4a5c-aba4-c9b3a30add18"
      },
      "source": [
        "from sklearn.metrics import roc_auc_score\n",
        "roc_auc_score(y_train_5, y_scores)"
      ],
      "execution_count": 84,
      "outputs": [
        {
          "output_type": "execute_result",
          "data": {
            "text/plain": [
              "0.9604938554008616"
            ]
          },
          "metadata": {
            "tags": []
          },
          "execution_count": 84
        }
      ]
    },
    {
      "cell_type": "markdown",
      "metadata": {
        "id": "oyUi5HyKHHFT",
        "colab_type": "text"
      },
      "source": [
        "predict_proba() method returns an array containing a row per\n",
        "instance and a column per class, each containing the probability that the given\n",
        "instance belongs to the given class"
      ]
    },
    {
      "cell_type": "code",
      "metadata": {
        "id": "ASnipaiMHIEC",
        "colab_type": "code",
        "colab": {}
      },
      "source": [
        "from sklearn.ensemble import RandomForestClassifier\n",
        "forest_clf = RandomForestClassifier(random_state=42)\n",
        "y_probas_forest = cross_val_predict(forest_clf, X_train, y_train_5, cv=3,\n",
        "method=\"predict_proba\")"
      ],
      "execution_count": 0,
      "outputs": []
    },
    {
      "cell_type": "markdown",
      "metadata": {
        "id": "7zibtO88Hihh",
        "colab_type": "text"
      },
      "source": [
        "compare its ROC curve and ROC\n",
        "AUC score to those of the SGDClassifier."
      ]
    },
    {
      "cell_type": "code",
      "metadata": {
        "id": "WkVBoiRrNNlh",
        "colab_type": "code",
        "colab": {}
      },
      "source": [
        "y_scores_forest = y_probas_forest[:, 1] # score = proba of positive class\n",
        "fpr_forest, tpr_forest, thresholds_forest = roc_curve(y_train_5,y_scores_forest)"
      ],
      "execution_count": 0,
      "outputs": []
    },
    {
      "cell_type": "code",
      "metadata": {
        "id": "qBtjGtsvOelf",
        "colab_type": "code",
        "colab": {
          "base_uri": "https://localhost:8080/",
          "height": 265
        },
        "outputId": "4c5ad70f-c8ea-4b98-a8cc-6a87d0567c59"
      },
      "source": [
        "plt.plot(fpr, tpr, \"b:\", label=\"SGD\")\n",
        "plot_roc_curve(fpr_forest, tpr_forest, \"Random Forest\")\n",
        "plt.legend(loc=\"lower right\")\n",
        "plt.show()"
      ],
      "execution_count": 88,
      "outputs": [
        {
          "output_type": "display_data",
          "data": {
            "image/png": "[encoded data removed]",
            "text/plain": [
              "<Figure size 432x288 with 1 Axes>"
            ]
          },
          "metadata": {
            "tags": []
          }
        }
      ]
    },
    {
      "cell_type": "code",
      "metadata": {
        "id": "eFeGnCcPOnKf",
        "colab_type": "code",
        "colab": {
          "base_uri": "https://localhost:8080/",
          "height": 34
        },
        "outputId": "19b242e9-82fe-4141-84c8-ac501693333d"
      },
      "source": [
        "roc_auc_score(y_train_5, y_scores_forest)"
      ],
      "execution_count": 89,
      "outputs": [
        {
          "output_type": "execute_result",
          "data": {
            "text/plain": [
              "0.9983436731328145"
            ]
          },
          "metadata": {
            "tags": []
          },
          "execution_count": 89
        }
      ]
    },
    {
      "cell_type": "markdown",
      "metadata": {
        "id": "SUDTBAWsOtz9",
        "colab_type": "text"
      },
      "source": [
        "Try measuring the precision and recall scores: you should find 99.0% precision and\n",
        "86.6% recall. Not too bad!"
      ]
    },
    {
      "cell_type": "markdown",
      "metadata": {
        "id": "VAyd2I0bOyE_",
        "colab_type": "text"
      },
      "source": [
        "#Multiclass Classification\n",
        "###**Some algorithms**\n",
        "* SGD classifiers, \n",
        "* Random Forest classifiers,\n",
        "* naive Bayes classifiers, \n",
        "###** binary classifiers **\n",
        "* Logistic Regression \n",
        "* Support Vector Machine classifiers\n",
        "### one way \n",
        "to create a system that can classify the digit images into 10 class is train 10 binary classifiers, one foe each digit. then if i want to classify an image, i can get the decision secor from each classifier for that image and you select the class whose classifier outputs the highest score. it is called **ONE-VERSUS-THE REST(OvR) strategy, also called one versus all.**\n",
        "###another strategy \n",
        "is to train a binary classifier for every pair of digits: one to distinguish 0 and 1, another to distinguish 0 and 2, another for 1 and 2 and so on. it is called the **one-versus-one(OvO)strategy. if there are N calsses, you need to train N × (N – 1) / 2 classifiers.   if i need to classify an image, i have to run the image through all 45 classifiers and see which class wins the most duels. the main advantage of OvO is each classifier only need to be trained on the part of the training set for the 2 classes.   "
      ]
    },
    {
      "cell_type": "markdown",
      "metadata": {
        "id": "odzkzDdySkM-",
        "colab_type": "text"
      },
      "source": [
        "##Support Vector Machine classifier"
      ]
    },
    {
      "cell_type": "code",
      "metadata": {
        "id": "iJFgU8lmOveB",
        "colab_type": "code",
        "colab": {}
      },
      "source": [
        "from sklearn.svm import SVC\n",
        "svm_clf = SVC()"
      ],
      "execution_count": 0,
      "outputs": []
    },
    {
      "cell_type": "code",
      "metadata": {
        "id": "ntzH18TBTG8J",
        "colab_type": "code",
        "colab": {
          "base_uri": "https://localhost:8080/",
          "height": 85
        },
        "outputId": "0df9c6b2-9597-42f1-96ee-a69784eaae10"
      },
      "source": [
        "svm_clf.fit(X_train, y_train) #y_train, not y_train_5\n"
      ],
      "execution_count": 92,
      "outputs": [
        {
          "output_type": "execute_result",
          "data": {
            "text/plain": [
              "SVC(C=1.0, break_ties=False, cache_size=200, class_weight=None, coef0=0.0,\n",
              "    decision_function_shape='ovr', degree=3, gamma='scale', kernel='rbf',\n",
              "    max_iter=-1, probability=False, random_state=None, shrinking=True,\n",
              "    tol=0.001, verbose=False)"
            ]
          },
          "metadata": {
            "tags": []
          },
          "execution_count": 92
        }
      ]
    },
    {
      "cell_type": "code",
      "metadata": {
        "id": "PNS_zrWATOs9",
        "colab_type": "code",
        "colab": {
          "base_uri": "https://localhost:8080/",
          "height": 34
        },
        "outputId": "ff5a0db1-bae3-4593-c894-73f052c36b4e"
      },
      "source": [
        "svm_clf.predict([some_digit])"
      ],
      "execution_count": 93,
      "outputs": [
        {
          "output_type": "execute_result",
          "data": {
            "text/plain": [
              "array([5], dtype=uint8)"
            ]
          },
          "metadata": {
            "tags": []
          },
          "execution_count": 93
        }
      ]
    },
    {
      "cell_type": "code",
      "metadata": {
        "id": "kTad6uWjVrG_",
        "colab_type": "code",
        "colab": {}
      },
      "source": [
        "some_digit_scores = svm_clf.decision_function([some_digit]) #call decision_function , can see it retuns 10 scores for per instance"
      ],
      "execution_count": 0,
      "outputs": []
    },
    {
      "cell_type": "code",
      "metadata": {
        "id": "fottF01-V0Mx",
        "colab_type": "code",
        "colab": {
          "base_uri": "https://localhost:8080/",
          "height": 51
        },
        "outputId": "f9499d86-40e2-4a98-bd4f-0c8ccf3cd07b"
      },
      "source": [
        "some_digit_scores"
      ],
      "execution_count": 95,
      "outputs": [
        {
          "output_type": "execute_result",
          "data": {
            "text/plain": [
              "array([[ 1.72501977,  2.72809088,  7.2510018 ,  8.3076379 , -0.31087254,\n",
              "         9.3132482 ,  1.70975103,  2.76765202,  6.23049537,  4.84771048]])"
            ]
          },
          "metadata": {
            "tags": []
          },
          "execution_count": 95
        }
      ]
    },
    {
      "cell_type": "code",
      "metadata": {
        "id": "I31xmxv5WU97",
        "colab_type": "code",
        "colab": {
          "base_uri": "https://localhost:8080/",
          "height": 34
        },
        "outputId": "a9df8503-2960-48d7-c6f7-212553db011c"
      },
      "source": [
        "#the hightest score is class 5\n",
        "np.argmax(some_digit_scores)"
      ],
      "execution_count": 96,
      "outputs": [
        {
          "output_type": "execute_result",
          "data": {
            "text/plain": [
              "5"
            ]
          },
          "metadata": {
            "tags": []
          },
          "execution_count": 96
        }
      ]
    },
    {
      "cell_type": "code",
      "metadata": {
        "id": "zxGzGOXwWbyC",
        "colab_type": "code",
        "colab": {
          "base_uri": "https://localhost:8080/",
          "height": 34
        },
        "outputId": "92c5467b-40ad-4d61-a57a-74bb55deaa94"
      },
      "source": [
        "svm_clf.classes_"
      ],
      "execution_count": 97,
      "outputs": [
        {
          "output_type": "execute_result",
          "data": {
            "text/plain": [
              "array([0, 1, 2, 3, 4, 5, 6, 7, 8, 9], dtype=uint8)"
            ]
          },
          "metadata": {
            "tags": []
          },
          "execution_count": 97
        }
      ]
    },
    {
      "cell_type": "code",
      "metadata": {
        "id": "UwqCYZjrWprd",
        "colab_type": "code",
        "colab": {
          "base_uri": "https://localhost:8080/",
          "height": 34
        },
        "outputId": "0701c5aa-4510-419c-eadd-ad2d9a770b1d"
      },
      "source": [
        "svm_clf.classes_[5]"
      ],
      "execution_count": 99,
      "outputs": [
        {
          "output_type": "execute_result",
          "data": {
            "text/plain": [
              "5"
            ]
          },
          "metadata": {
            "tags": []
          },
          "execution_count": 99
        }
      ]
    },
    {
      "cell_type": "markdown",
      "metadata": {
        "id": "m006yRqyW8uf",
        "colab_type": "text"
      },
      "source": [
        "##OvR classifier classes"
      ]
    },
    {
      "cell_type": "code",
      "metadata": {
        "id": "m9jDaZO4XChg",
        "colab_type": "code",
        "colab": {}
      },
      "source": [
        "from sklearn.multiclass import OneVsRestClassifier\n",
        "ovr_clf = OneVsRestClassifier(SVC())\n",
        "ovr_clf.fit(X_train,y_train)"
      ],
      "execution_count": 0,
      "outputs": []
    }
  ]
}